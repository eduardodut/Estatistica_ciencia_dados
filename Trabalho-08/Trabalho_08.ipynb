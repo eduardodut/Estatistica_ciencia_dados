{
  "nbformat": 4,
  "nbformat_minor": 0,
  "metadata": {
    "colab": {
      "name": "Trabalho_08.ipynb",
      "provenance": [],
      "include_colab_link": true
    },
    "kernelspec": {
      "name": "python3",
      "display_name": "Python 3"
    }
  },
  "cells": [
    {
      "cell_type": "markdown",
      "metadata": {
        "id": "view-in-github",
        "colab_type": "text"
      },
      "source": [
        "<a href=\"https://colab.research.google.com/github/eduardodut/Estatistica_ciencia_dados/blob/master/Trabalho-08/Trabalho_08.ipynb\" target=\"_parent\"><img src=\"https://colab.research.google.com/assets/colab-badge.svg\" alt=\"Open In Colab\"/></a>"
      ]
    },
    {
      "cell_type": "markdown",
      "metadata": {
        "id": "BWpFzDtjjFXM",
        "colab_type": "text"
      },
      "source": [
        "# Trabalho final de estatística para Ciência de Dados"
      ]
    },
    {
      "cell_type": "markdown",
      "metadata": {
        "id": "H5UlSJwskOBm",
        "colab_type": "text"
      },
      "source": [
        "## Enunciado"
      ]
    },
    {
      "cell_type": "markdown",
      "metadata": {
        "id": "yL9i-hcBkR9O",
        "colab_type": "text"
      },
      "source": [
        "Objetivos: Aplicar os conhecimentos em estatística.\n",
        "Dada uma matriz n x n esférica:\n",
        "Esférica: o indivíduo, digamos na borda direita pode ainda se deslocar para a direita,\n",
        "surgindo na borda esquerda da matriz. O mesmo acontece para as outras bordas;\n",
        "1. Alimentá-la inicialmente com os seguintes indivíduos:\n",
        "\n",
        "  1.1. Um infectado, cuja posição é aleatória;\n",
        "  \n",
        "  1.2. Um número randômico de assintomáticos, cujas posições são aleatórias;\n",
        "  \n",
        "  1.3. Um número randômico de sintomáticos, cujas posições são aleatórias;\n",
        "\n",
        "2. A forma de desenvolvimento:\n",
        "  \n",
        "  2.1. A rede evolui em passos, cada passo significa a mudança de todos os indivíduos\n",
        "  infectados de posição. Antes disso, ele realiza todas as tarefas de infecção sobre os\n",
        "  outros indivíduos;\n",
        "3. A mobilidade;\n",
        "\n",
        "  3.1. Somente os indivíduos infectados caminham ou mudam de posição no passo. Os\n",
        "outros indivíduos permanecem estáticos;\n",
        "\n",
        "  3.2. Apenas indivíduos infectados circulam na rede\n",
        "4. O indivíduo infectado deverá infectar os seus vizinhos diretos (não diagonais) em dois\n",
        "casos, desenvolvidos separadamente:\n",
        "\n",
        "  4.1. Apenas com 30% de chance;\n",
        "\n",
        "  4.2. Com 100% de chance;\n",
        "5. A infecção:\n",
        "\n",
        "  5.1. O infectado adquiri a propriedade de infectar;\n",
        "  \n",
        "  5.2. O infectante infecta os seus vizinhos, considerando as regras do item 4;\n",
        "    \n",
        "    5.2.1. O indivíduo assintomático apresenta uma infecção do tipo 1;\n",
        "    \n",
        "    5.2.2. Os indivíduos sintomáticos apresentam uma infecção tipo 2:\n",
        "    \n",
        "    5.2.3. O programa deve escolher quem é sintomático com chance de 20%.\n",
        "6. A cura:\n",
        "\n",
        "  6.1. A cura dos infectados ocorre após 10 atualizações;\n",
        "7. A morte:\n",
        "\n",
        "  7.1. A morte pode ocorrer para os indivíduos do tipo 2, do início da infecção até a 10 atualização com 2% de chance;\n",
        "8. Para cada um dos casos do item 4, verifique com quantos passos sua rede atinge 100%\n",
        "de infectados e com 50% deste valor colha os seguintes dados:\n",
        "\n",
        "  8.1. Número de assintomáticos;\n",
        "  \n",
        "  8.2. Número de sintomáticos;\n",
        "  \n",
        "  8.3. Número de infectados tipos 1 e tipo 2;\n",
        "  \n",
        "  8.4. Número de curados;\n",
        "  \n",
        "  8.5. Número de mortos;\n",
        "9. Os valores gerados no item 8, para cada caso do item 4, devem analisados\n",
        "estatisticamente e:\n",
        "\n",
        "  9.1. Realize a estatística descritiva;\n",
        "\n",
        "  9.2. Verificar se o experimento se ajusta a uma distribuição normal.\n",
        "\n",
        "  9.3. Verifique com quantos passos sua rede atinge 100% de infectados:\n",
        "\n",
        "    9.3.1. Com base nestes dados, verifique com 95% de confiança, qual o número de cada indivíduo no passo n/2+1;\n",
        "    \n",
        "    9.3.2. Verifique a independência das contaminações entre assintomáticos e\n",
        "    sintomáticos através de CHI-Square, com base na seguinte relação: são\n",
        "    esperados 18% de doentes e 80% de assintomáticos e 2% de mortos;"
      ]
    },
    {
      "cell_type": "markdown",
      "metadata": {
        "id": "rLPawIbgjOsP",
        "colab_type": "text"
      },
      "source": [
        "## Simulações"
      ]
    },
    {
      "cell_type": "code",
      "metadata": {
        "id": "eVRUCTlGC0KQ",
        "colab_type": "code",
        "cellView": "form",
        "colab": {}
      },
      "source": [
        "#@title Gerar simulações\n",
        "#@markdown ### Selecione os parâmetros das simulações\n",
        "#@markdown ### O resultados podem ser acessados no dataframe \"simulacoes\"\n",
        "\n",
        "\n",
        "\n",
        "numero_simulacoes = 2156 #@param {type:\"slider\", min:1, max:5000, step:1}\n",
        "tamanho_matriz = 2056 #@param {type:\"slider\", min:10, max:10000, step:1}\n",
        "chance_infeccao = 30 #@param {type:\"slider\", min:0, max:100, step:1}\n",
        "chance_morte = 2 #@param {type:\"slider\", min:0, max:100, step:1}\n",
        "chance_assintomatico = 20 #@param {type:\"slider\", min:0, max:100, step:1}\n",
        "criterio_parada = \"100%_infectados\"\n",
        "select_or_input = \"apples\"\n",
        "#@markdown ---\n"
      ],
      "execution_count": null,
      "outputs": []
    },
    {
      "cell_type": "markdown",
      "metadata": {
        "id": "6z9yZUIyvhHZ",
        "colab_type": "text"
      },
      "source": [
        "*   população total da simulação\n",
        "*   num_inicial de sintomáticos\n",
        "*   num_inicial de assintomáticos\n",
        "*   percentual de chance de infecção\n",
        "\n",
        "*   numero de passos até 100% infectados\n",
        "    *   numero_mortos, \n",
        "    *   numero de doentes de cada tipo  \n",
        "    *   número de curados\n",
        "*   numero de passos até 50% infectados\n",
        "    *   numero_mortos, \n",
        "    *   numero de doentes de cada tipo  \n",
        "    *   número de curados\n",
        "*   numero de passos até extinção da doença da matriz\n",
        "    *   numero_mortos, \n",
        "    *   numero de doentes de cada tipo  \n",
        "    *   número de curados\n",
        "\n",
        "\n"
      ]
    },
    {
      "cell_type": "markdown",
      "metadata": {
        "id": "2RINKH9CjQrr",
        "colab_type": "text"
      },
      "source": [
        "## Testes estatísticos\n"
      ]
    },
    {
      "cell_type": "code",
      "metadata": {
        "id": "aia5LGESk2HW",
        "colab_type": "code",
        "colab": {}
      },
      "source": [
        ""
      ],
      "execution_count": null,
      "outputs": []
    },
    {
      "cell_type": "markdown",
      "metadata": {
        "id": "xRUI2YwYjWHA",
        "colab_type": "text"
      },
      "source": [
        "## Conclusões"
      ]
    },
    {
      "cell_type": "code",
      "metadata": {
        "id": "qZiF5RKuk3Gh",
        "colab_type": "code",
        "colab": {}
      },
      "source": [
        "# teste"
      ],
      "execution_count": null,
      "outputs": []
    }
  ]
}